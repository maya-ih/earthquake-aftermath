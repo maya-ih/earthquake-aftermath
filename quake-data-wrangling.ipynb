{
 "cells": [
  {
   "cell_type": "code",
   "execution_count": 2,
   "metadata": {
    "executionInfo": {
     "elapsed": 979,
     "status": "ok",
     "timestamp": 1699982194888,
     "user": {
      "displayName": "Khanh Linh Nguyen",
      "userId": "16405960732728565075"
     },
     "user_tz": 360
    },
    "id": "XPv4YrLtJg3u"
   },
   "outputs": [],
   "source": [
    "import pandas as pd"
   ]
  },
  {
   "cell_type": "code",
   "execution_count": 3,
   "metadata": {
    "executionInfo": {
     "elapsed": 331,
     "status": "ok",
     "timestamp": 1699982195214,
     "user": {
      "displayName": "Khanh Linh Nguyen",
      "userId": "16405960732728565075"
     },
     "user_tz": 360
    },
    "id": "EZnZ6c5vJ6fb"
   },
   "outputs": [],
   "source": [
    "df = pd.read_csv('mc1-reports-data.csv')\n",
    "\n",
    "# Drop duplicates\n",
    "df.drop_duplicates(inplace=True)\n",
    "\n",
    "# Replace missing categorical values with mode by location\n",
    "df['sewer_and_water'] = df.groupby('location', group_keys=False)['sewer_and_water'].apply(lambda x: x.fillna(x.mode().iloc[0]))\n",
    "df['shake_intensity'] = df.groupby('location', group_keys=False)['shake_intensity'].apply(lambda x: x.fillna(x.mode().iloc[0]))\n",
    "df['buildings'] = df.groupby('location', group_keys=False)['buildings'].apply(lambda x: x.fillna(x.mode().iloc[0]))\n",
    "df['medical'] = df.groupby('location', group_keys=False)['medical'].apply(lambda x: x.fillna(x.mode().iloc[0]))\n",
    "\n",
    "# Change time column to correct format\n",
    "df['time'] = pd.to_datetime(df['time'])\n",
    "\n",
    "# Make sure all columns have positive value\n",
    "df['sewer_and_water'] = df['sewer_and_water'].abs()\n",
    "df['power'] = df['power'].abs()\n",
    "df['roads_and_bridges'] = df['roads_and_bridges'].abs()\n",
    "df['medical'] = df['medical'].abs()\n",
    "df['buildings'] = df['buildings'].abs()\n",
    "df['shake_intensity'] = df['shake_intensity'].abs()\n",
    "df['location'] = df['location'].abs()"
   ]
  }
 ],
 "metadata": {
  "colab": {
   "provenance": []
  },
  "kernelspec": {
   "display_name": "Python 3 (ipykernel)",
   "language": "python",
   "name": "python3"
  },
  "language_info": {
   "codemirror_mode": {
    "name": "ipython",
    "version": 3
   },
   "file_extension": ".py",
   "mimetype": "text/x-python",
   "name": "python",
   "nbconvert_exporter": "python",
   "pygments_lexer": "ipython3",
   "version": "3.10.2"
  }
 },
 "nbformat": 4,
 "nbformat_minor": 4
}
